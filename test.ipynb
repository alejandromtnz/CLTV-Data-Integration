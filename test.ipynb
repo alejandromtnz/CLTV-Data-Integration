{
 "cells": [
  {
   "cell_type": "code",
   "execution_count": null,
   "metadata": {
    "vscode": {
     "languageId": "plaintext"
    }
   },
   "outputs": [],
   "source": [
    "# contruccion tabla dimensiona GEO\n",
    "\n",
    "SELECT [TENDA_ID]\n",
    "    , tienda.[PROVINCIA_ID]\n",
    "    , tienda.[ZONA_ID]\n",
    "    , [TIENDA_DESC]\n",
    "    , [PROV_DESC]\n",
    "    , [ZONA]\n",
    "FROM\n",
    "    [DATAEX].[011_tienda] tienda\n",
    "LEFT JOIN \n",
    "    [DATAEX].[012_provincia] provincia ON tienda.PROVINCIA_ID = provincia.PROVINCIA_ID\n",
    "LEFT JOIN \n",
    "    [DATAEX]-[013_zona] zona ON tienda.ZONA_ID = zona.ZONA_ID"
   ]
  }
 ],
 "metadata": {
  "language_info": {
   "name": "python"
  }
 },
 "nbformat": 4,
 "nbformat_minor": 2
}
